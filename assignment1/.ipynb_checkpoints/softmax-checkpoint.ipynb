{
 "cells": [
  {
   "cell_type": "markdown",
   "metadata": {},
   "source": [
    "# Softmax exercise\n",
    "\n",
    "*Complete and hand in this completed worksheet (including its outputs and any supporting code outside of the worksheet) with your assignment submission. For more details see the [assignments page](http://vision.stanford.edu/teaching/cs231n/assignments.html) on the course website.*\n",
    "\n",
    "This exercise is analogous to the SVM exercise. You will:\n",
    "\n",
    "- implement a fully-vectorized **loss function** for the Softmax classifier\n",
    "- implement the fully-vectorized expression for its **analytic gradient**\n",
    "- **check your implementation** with numerical gradient\n",
    "- use a validation set to **tune the learning rate and regularization** strength\n",
    "- **optimize** the loss function with **SGD**\n",
    "- **visualize** the final learned weights\n"
   ]
  },
  {
   "cell_type": "code",
   "execution_count": 1,
   "metadata": {},
   "outputs": [],
   "source": [
    "import random\n",
    "import numpy as np\n",
    "from cs231n.data_utils import load_CIFAR10\n",
    "import matplotlib.pyplot as plt\n",
    "\n",
    "from __future__ import print_function\n",
    "\n",
    "%matplotlib inline\n",
    "plt.rcParams['figure.figsize'] = (10.0, 8.0) # set default size of plots\n",
    "plt.rcParams['image.interpolation'] = 'nearest'\n",
    "plt.rcParams['image.cmap'] = 'gray'\n",
    "\n",
    "# for auto-reloading extenrnal modules\n",
    "# see http://stackoverflow.com/questions/1907993/autoreload-of-modules-in-ipython\n",
    "%load_ext autoreload\n",
    "%autoreload 2"
   ]
  },
  {
   "cell_type": "code",
   "execution_count": 2,
   "metadata": {},
   "outputs": [
    {
     "name": "stdout",
     "output_type": "stream",
     "text": [
      "Train data shape:  (49000, 3073)\n",
      "Train labels shape:  (49000,)\n",
      "Validation data shape:  (1000, 3073)\n",
      "Validation labels shape:  (1000,)\n",
      "Test data shape:  (1000, 3073)\n",
      "Test labels shape:  (1000,)\n",
      "dev data shape:  (500, 3073)\n",
      "dev labels shape:  (500,)\n"
     ]
    }
   ],
   "source": [
    "def get_CIFAR10_data(num_training=49000, num_validation=1000, num_test=1000, num_dev=500):\n",
    "    \"\"\"\n",
    "    Load the CIFAR-10 dataset from disk and perform preprocessing to prepare\n",
    "    it for the linear classifier. These are the same steps as we used for the\n",
    "    SVM, but condensed to a single function.  \n",
    "    \"\"\"\n",
    "    # Load the raw CIFAR-10 data\n",
    "    cifar10_dir = 'cs231n/datasets/cifar-10-batches-py'\n",
    "    X_train, y_train, X_test, y_test = load_CIFAR10(cifar10_dir)\n",
    "    \n",
    "    # subsample the data\n",
    "    mask = list(range(num_training, num_training + num_validation))\n",
    "    X_val = X_train[mask]\n",
    "    y_val = y_train[mask]\n",
    "    mask = list(range(num_training))\n",
    "    X_train = X_train[mask]\n",
    "    y_train = y_train[mask]\n",
    "    mask = list(range(num_test))\n",
    "    X_test = X_test[mask]\n",
    "    y_test = y_test[mask]\n",
    "    mask = np.random.choice(num_training, num_dev, replace=False)\n",
    "    X_dev = X_train[mask]\n",
    "    y_dev = y_train[mask]\n",
    "    \n",
    "    # Preprocessing: reshape the image data into rows\n",
    "    X_train = np.reshape(X_train, (X_train.shape[0], -1))\n",
    "    X_val = np.reshape(X_val, (X_val.shape[0], -1))\n",
    "    X_test = np.reshape(X_test, (X_test.shape[0], -1))\n",
    "    X_dev = np.reshape(X_dev, (X_dev.shape[0], -1))\n",
    "    \n",
    "    # Normalize the data: subtract the mean image\n",
    "    mean_image = np.mean(X_train, axis = 0)\n",
    "    X_train -= mean_image\n",
    "    X_val -= mean_image\n",
    "    X_test -= mean_image\n",
    "    X_dev -= mean_image\n",
    "    \n",
    "    # add bias dimension and transform into columns\n",
    "    X_train = np.hstack([X_train, np.ones((X_train.shape[0], 1))])\n",
    "    X_val = np.hstack([X_val, np.ones((X_val.shape[0], 1))])\n",
    "    X_test = np.hstack([X_test, np.ones((X_test.shape[0], 1))])\n",
    "    X_dev = np.hstack([X_dev, np.ones((X_dev.shape[0], 1))])\n",
    "    \n",
    "    return X_train, y_train, X_val, y_val, X_test, y_test, X_dev, y_dev\n",
    "\n",
    "\n",
    "# Invoke the above function to get our data.\n",
    "X_train, y_train, X_val, y_val, X_test, y_test, X_dev, y_dev = get_CIFAR10_data()\n",
    "print('Train data shape: ', X_train.shape)\n",
    "print('Train labels shape: ', y_train.shape)\n",
    "print('Validation data shape: ', X_val.shape)\n",
    "print('Validation labels shape: ', y_val.shape)\n",
    "print('Test data shape: ', X_test.shape)\n",
    "print('Test labels shape: ', y_test.shape)\n",
    "print('dev data shape: ', X_dev.shape)\n",
    "print('dev labels shape: ', y_dev.shape)"
   ]
  },
  {
   "cell_type": "markdown",
   "metadata": {},
   "source": [
    "## Softmax Classifier\n",
    "\n",
    "Your code for this section will all be written inside **cs231n/classifiers/softmax.py**. \n"
   ]
  },
  {
   "cell_type": "code",
   "execution_count": 18,
   "metadata": {},
   "outputs": [
    {
     "name": "stdout",
     "output_type": "stream",
     "text": [
      "loss: 2.375527\n",
      "sanity check: 2.302585\n"
     ]
    }
   ],
   "source": [
    "# First implement the naive softmax loss function with nested loops.\n",
    "# Open the file cs231n/classifiers/softmax.py and implement the\n",
    "# softmax_loss_naive function.\n",
    "\n",
    "from cs231n.classifiers.softmax import softmax_loss_naive\n",
    "import time\n",
    "\n",
    "# Generate a random softmax weight matrix and use it to compute the loss.\n",
    "W = np.random.randn(3073, 10) * 0.0001\n",
    "loss, grad = softmax_loss_naive(W, X_dev, y_dev, 0.0)\n",
    "\n",
    "# As a rough sanity check, our loss should be something close to -log(0.1).\n",
    "print('loss: %f' % loss)\n",
    "print('sanity check: %f' % (-np.log(0.1)))"
   ]
  },
  {
   "cell_type": "markdown",
   "metadata": {},
   "source": [
    "## Inline Question 1:\n",
    "Why do we expect our loss to be close to -log(0.1)? Explain briefly.**\n",
    "\n",
    "**Your answer:** 因为一开始，随机情况下分到各个类别的概率差不多，十个类别中一个概率为0.1\n"
   ]
  },
  {
   "cell_type": "code",
   "execution_count": 21,
   "metadata": {},
   "outputs": [
    {
     "name": "stdout",
     "output_type": "stream",
     "text": [
      "numerical: -1.739574 analytic: -1.739574, relative error: 2.733734e-08\n",
      "numerical: 1.371494 analytic: 1.371494, relative error: 2.324548e-08\n",
      "numerical: 0.445326 analytic: 0.445326, relative error: 8.732709e-08\n",
      "numerical: -2.802607 analytic: -2.802607, relative error: 1.497734e-08\n",
      "numerical: -0.020866 analytic: -0.020866, relative error: 1.160081e-06\n",
      "numerical: 1.110432 analytic: 1.110432, relative error: 1.522883e-09\n",
      "numerical: 0.398720 analytic: 0.398720, relative error: 6.586043e-08\n",
      "numerical: -0.257422 analytic: -0.257422, relative error: 1.665090e-07\n",
      "numerical: 0.326669 analytic: 0.326669, relative error: 8.854774e-08\n",
      "numerical: -3.151037 analytic: -3.151037, relative error: 7.020541e-09\n",
      "numerical: -0.896459 analytic: -0.896459, relative error: 9.079185e-09\n",
      "numerical: 2.682368 analytic: 2.682368, relative error: 1.849810e-09\n",
      "numerical: 1.719112 analytic: 1.719112, relative error: 9.029380e-09\n",
      "numerical: 2.677073 analytic: 2.677073, relative error: 3.861004e-08\n",
      "numerical: -0.364848 analytic: -0.364848, relative error: 4.368406e-08\n",
      "numerical: -1.442929 analytic: -1.442929, relative error: 9.660926e-09\n",
      "numerical: -1.096974 analytic: -1.096974, relative error: 2.649326e-08\n",
      "numerical: -0.244307 analytic: -0.244307, relative error: 3.063606e-11\n",
      "numerical: 0.851543 analytic: 0.851543, relative error: 3.366970e-09\n",
      "numerical: -1.003047 analytic: -1.003047, relative error: 1.609757e-08\n"
     ]
    }
   ],
   "source": [
    "# Complete the implementation of softmax_loss_naive and implement a (naive)\n",
    "# version of the gradient that uses nested loops.\n",
    "loss, grad = softmax_loss_naive(W, X_dev, y_dev, 0.0)\n",
    "\n",
    "# As we did for the SVM, use numeric gradient checking as a debugging tool.\n",
    "# The numeric gradient should be close to the analytic gradient.\n",
    "from cs231n.gradient_check import grad_check_sparse\n",
    "f = lambda w: softmax_loss_naive(w, X_dev, y_dev, 0.0)[0]\n",
    "grad_numerical = grad_check_sparse(f, W, grad, 10)\n",
    "\n",
    "# similar to SVM case, do another gradient check with regularization\n",
    "loss, grad = softmax_loss_naive(W, X_dev, y_dev, 5e1)\n",
    "f = lambda w: softmax_loss_naive(w, X_dev, y_dev, 5e1)[0]\n",
    "grad_numerical = grad_check_sparse(f, W, grad, 10)"
   ]
  },
  {
   "cell_type": "code",
   "execution_count": 27,
   "metadata": {},
   "outputs": [
    {
     "name": "stdout",
     "output_type": "stream",
     "text": [
      "naive loss: 2.375527e+00 computed in 0.112370s\n",
      "vectorized loss: 2.375527e+00 computed in 0.003010s\n",
      "Loss difference: 0.000000\n",
      "Gradient difference: 0.000000\n"
     ]
    }
   ],
   "source": [
    "# Now that we have a naive implementation of the softmax loss function and its gradient,\n",
    "# implement a vectorized version in softmax_loss_vectorized.\n",
    "# The two versions should compute the same results, but the vectorized version should be\n",
    "# much faster.\n",
    "tic = time.time()\n",
    "loss_naive, grad_naive = softmax_loss_naive(W, X_dev, y_dev, 0.000005)\n",
    "toc = time.time()\n",
    "print('naive loss: %e computed in %fs' % (loss_naive, toc - tic))\n",
    "\n",
    "from cs231n.classifiers.softmax import softmax_loss_vectorized\n",
    "tic = time.time()\n",
    "loss_vectorized, grad_vectorized = softmax_loss_vectorized(W, X_dev, y_dev, 0.000005)\n",
    "toc = time.time()\n",
    "print('vectorized loss: %e computed in %fs' % (loss_vectorized, toc - tic))\n",
    "\n",
    "# As we did for the SVM, we use the Frobenius norm to compare the two versions\n",
    "# of the gradient.\n",
    "grad_difference = np.linalg.norm(grad_naive - grad_vectorized, ord='fro')\n",
    "print('Loss difference: %f' % np.abs(loss_naive - loss_vectorized))\n",
    "print('Gradient difference: %f' % grad_difference)"
   ]
  },
  {
   "cell_type": "code",
   "execution_count": 23,
   "metadata": {},
   "outputs": [
    {
     "name": "stdout",
     "output_type": "stream",
     "text": [
      "iteration 0 / 1500: loss 392.033413\n",
      "iteration 100 / 1500: loss 236.395362\n",
      "iteration 200 / 1500: loss 143.750548\n",
      "iteration 300 / 1500: loss 87.679824\n",
      "iteration 400 / 1500: loss 53.837786\n",
      "iteration 500 / 1500: loss 33.346370\n",
      "iteration 600 / 1500: loss 20.948155\n",
      "iteration 700 / 1500: loss 13.560122\n",
      "iteration 800 / 1500: loss 8.951061\n",
      "iteration 900 / 1500: loss 6.165199\n",
      "iteration 1000 / 1500: loss 4.515548\n",
      "iteration 1100 / 1500: loss 3.560479\n",
      "iteration 1200 / 1500: loss 2.941998\n",
      "iteration 1300 / 1500: loss 2.560678\n",
      "iteration 1400 / 1500: loss 2.353080\n",
      "iteration 0 / 1500: loss 775.591896\n",
      "iteration 100 / 1500: loss 284.855665\n",
      "iteration 200 / 1500: loss 105.579695\n",
      "iteration 300 / 1500: loss 40.091327\n",
      "iteration 400 / 1500: loss 15.901650\n",
      "iteration 500 / 1500: loss 7.153664\n",
      "iteration 600 / 1500: loss 3.937280\n",
      "iteration 700 / 1500: loss 2.772610\n",
      "iteration 800 / 1500: loss 2.320491\n",
      "iteration 900 / 1500: loss 2.193771\n",
      "iteration 1000 / 1500: loss 2.110006\n",
      "iteration 1100 / 1500: loss 2.117669\n",
      "iteration 1200 / 1500: loss 2.136931\n",
      "iteration 1300 / 1500: loss 2.079522\n",
      "iteration 1400 / 1500: loss 2.103846\n",
      "iteration 0 / 1500: loss 392.962306\n",
      "iteration 100 / 1500: loss 33.098180\n",
      "iteration 200 / 1500: loss 4.493028\n",
      "iteration 300 / 1500: loss 2.162129\n",
      "iteration 400 / 1500: loss 2.106449\n",
      "iteration 500 / 1500: loss 1.981353\n",
      "iteration 600 / 1500: loss 2.035188\n",
      "iteration 700 / 1500: loss 2.073319\n",
      "iteration 800 / 1500: loss 2.090523\n",
      "iteration 900 / 1500: loss 2.090996\n",
      "iteration 1000 / 1500: loss 2.044395\n",
      "iteration 1100 / 1500: loss 2.126612\n",
      "iteration 1200 / 1500: loss 2.024220\n",
      "iteration 1300 / 1500: loss 2.021792\n",
      "iteration 1400 / 1500: loss 2.081872\n",
      "iteration 0 / 1500: loss 778.082348\n",
      "iteration 100 / 1500: loss 6.937636\n",
      "iteration 200 / 1500: loss 2.123886\n",
      "iteration 300 / 1500: loss 2.106916\n",
      "iteration 400 / 1500: loss 2.068586\n",
      "iteration 500 / 1500: loss 2.146907\n",
      "iteration 600 / 1500: loss 2.048743\n",
      "iteration 700 / 1500: loss 2.122123\n",
      "iteration 800 / 1500: loss 2.120914\n",
      "iteration 900 / 1500: loss 2.097596\n",
      "iteration 1000 / 1500: loss 2.089225\n",
      "iteration 1100 / 1500: loss 2.059156\n",
      "iteration 1200 / 1500: loss 2.092530\n",
      "iteration 1300 / 1500: loss 2.111490\n",
      "iteration 1400 / 1500: loss 2.046267\n",
      "lr 1.000000e-07 reg 2.500000e+04 train accuracy: 0.349204 val accuracy: 0.358000\n",
      "lr 1.000000e-07 reg 5.000000e+04 train accuracy: 0.330980 val accuracy: 0.338000\n",
      "lr 5.000000e-07 reg 2.500000e+04 train accuracy: 0.346571 val accuracy: 0.359000\n",
      "lr 5.000000e-07 reg 5.000000e+04 train accuracy: 0.331408 val accuracy: 0.348000\n",
      "best validation accuracy achieved during cross-validation: 0.359000\n"
     ]
    }
   ],
   "source": [
    "# Use the validation set to tune hyperparameters (regularization strength and\n",
    "# learning rate). You should experiment with different ranges for the learning\n",
    "# rates and regularization strengths; if you are careful you should be able to\n",
    "# get a classification accuracy of over 0.35 on the validation set.\n",
    "from cs231n.classifiers import Softmax\n",
    "\n",
    "results = {}\n",
    "best_val = -1\n",
    "best_softmax = None\n",
    "learning_rates = [1e-7, 5e-7]\n",
    "regularization_strengths = [2.5e4, 5e4]\n",
    "\n",
    "################################################################################\n",
    "# TODO:                                                                        #\n",
    "# Use the validation set to set the learning rate and regularization strength. #\n",
    "# This should be identical to the validation that you did for the SVM; save    #\n",
    "# the best trained softmax classifer in best_softmax.                          #\n",
    "################################################################################\n",
    "for rates in learning_rates:\n",
    "    for regs in regularization_strengths:\n",
    "       sf = Softmax()\n",
    "       sf.train(X_train, y_train, learning_rate=rates, reg=regs,\n",
    "                      num_iters=1500, verbose=True) \n",
    "       y_train_pred = sf.predict(X_train)\n",
    "       train_accurancy=np.mean(y_train == y_train_pred)\n",
    "       y_val_pred = sf.predict(X_val)\n",
    "       val_accurancy=np.mean(y_val == y_val_pred)\n",
    "       results[(rates,regs)]=(train_accurancy,val_accurancy)\n",
    "       if(val_accurancy>best_val):\n",
    "            best_val=val_accurancy\n",
    "            best_softmax=sf\n",
    "################################################################################\n",
    "#                              END OF YOUR CODE                                #\n",
    "################################################################################\n",
    "    \n",
    "# Print out results.\n",
    "for lr, reg in sorted(results):\n",
    "    train_accuracy, val_accuracy = results[(lr, reg)]\n",
    "    print('lr %e reg %e train accuracy: %f val accuracy: %f' % (\n",
    "                lr, reg, train_accuracy, val_accuracy))\n",
    "    \n",
    "print('best validation accuracy achieved during cross-validation: %f' % best_val)"
   ]
  },
  {
   "cell_type": "code",
   "execution_count": 24,
   "metadata": {},
   "outputs": [
    {
     "name": "stdout",
     "output_type": "stream",
     "text": [
      "softmax on raw pixels final test set accuracy: 0.351000\n"
     ]
    }
   ],
   "source": [
    "# evaluate on test set\n",
    "# Evaluate the best softmax on test set\n",
    "y_test_pred = best_softmax.predict(X_test)\n",
    "test_accuracy = np.mean(y_test == y_test_pred)\n",
    "print('softmax on raw pixels final test set accuracy: %f' % (test_accuracy, ))"
   ]
  },
  {
   "cell_type": "code",
   "execution_count": 25,
   "metadata": {},
   "outputs": [
    {
     "data": {
      "image/png": "[encoded data removed]",
      "text/plain": [
       "<Figure size 432x288 with 10 Axes>"
      ]
     },
     "metadata": {},
     "output_type": "display_data"
    }
   ],
   "source": [
    "# Visualize the learned weights for each class\n",
    "w = best_softmax.W[:-1,:] # strip out the bias\n",
    "w = w.reshape(32, 32, 3, 10)\n",
    "\n",
    "w_min, w_max = np.min(w), np.max(w)\n",
    "\n",
    "classes = ['plane', 'car', 'bird', 'cat', 'deer', 'dog', 'frog', 'horse', 'ship', 'truck']\n",
    "for i in range(10):\n",
    "    plt.subplot(2, 5, i + 1)\n",
    "    \n",
    "    # Rescale the weights to be between 0 and 255\n",
    "    wimg = 255.0 * (w[:, :, :, i].squeeze() - w_min) / (w_max - w_min)\n",
    "    plt.imshow(wimg.astype('uint8'))\n",
    "    plt.axis('off')\n",
    "    plt.title(classes[i])"
   ]
  },
  {
   "cell_type": "code",
   "execution_count": null,
   "metadata": {},
   "outputs": [],
   "source": []
  }
 ],
 "metadata": {
  "kernelspec": {
   "display_name": "Python 3",
   "language": "python",
   "name": "python3"
  },
  "language_info": {
   "codemirror_mode": {
    "name": "ipython",
    "version": 3
   },
   "file_extension": ".py",
   "mimetype": "text/x-python",
   "name": "python",
   "nbconvert_exporter": "python",
   "pygments_lexer": "ipython3",
   "version": "3.6.5"
  }
 },
 "nbformat": 4,
 "nbformat_minor": 1
}
